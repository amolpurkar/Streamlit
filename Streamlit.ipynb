{
 "cells": [
  {
   "cell_type": "code",
   "execution_count": 1,
   "id": "c88f868a",
   "metadata": {},
   "outputs": [
    {
     "name": "stderr",
     "output_type": "stream",
     "text": [
      "2023-05-27 00:47:05.386 \n",
      "  \u001b[33m\u001b[1mWarning:\u001b[0m to view this Streamlit app on a browser, run it with the following\n",
      "  command:\n",
      "\n",
      "    streamlit run C:\\Users\\Amol purkar\\anaconda3\\lib\\site-packages\\ipykernel_launcher.py [ARGUMENTS]\n"
     ]
    }
   ],
   "source": [
    "# import the streamlit library\n",
    "import streamlit as st\n",
    "\n",
    "# give a title to our app\n",
    "st.title('Welcome to BMI Calculator')\n",
    "\n",
    "# TAKE WEIGHT INPUT in kgs\n",
    "weight = st.number_input(\"Enter your weight (in kgs)\")\n",
    "\n",
    "# TAKE HEIGHT INPUT\n",
    "# radio button to choose height format\n",
    "status = st.radio('Select your height format: ',\n",
    "\t\t\t\t('cms', 'meters', 'feet'))\n",
    "\n",
    "# compare status value\n",
    "if(status == 'cms'):\n",
    "\t# take height input in centimeters\n",
    "\theight = st.number_input('Centimeters')\n",
    "\n",
    "\ttry:\n",
    "\t\tbmi = weight / ((height/100)**2)\n",
    "\texcept:\n",
    "\t\tst.text(\"Enter some value of height\")\n",
    "\n",
    "elif(status == 'meters'):\n",
    "\t# take height input in meters\n",
    "\theight = st.number_input('Meters')\n",
    "\n",
    "\ttry:\n",
    "\t\tbmi = weight / (height ** 2)\n",
    "\texcept:\n",
    "\t\tst.text(\"Enter some value of height\")\n",
    "\n",
    "else:\n",
    "\t# take height input in feet\n",
    "\theight = st.number_input('Feet')\n",
    "\n",
    "\t# 1 meter = 3.28\n",
    "\ttry:\n",
    "\t\tbmi = weight / (((height/3.28))**2)\n",
    "\texcept:\n",
    "\t\tst.text(\"Enter some value of height\")\n",
    "\n",
    "# check if the button is pressed or not\n",
    "if(st.button('Calculate BMI')):\n",
    "\n",
    "\t# print the BMI INDEX\n",
    "\tst.text(\"Your BMI Index is {}.\".format(bmi))\n",
    "\n",
    "\t# give the interpretation of BMI index\n",
    "\tif(bmi < 16):\n",
    "\t\tst.error(\"You are Extremely Underweight\")\n",
    "\telif(bmi >= 16 and bmi < 18.5):\n",
    "\t\tst.warning(\"You are Underweight\")\n",
    "\telif(bmi >= 18.5 and bmi < 25):\n",
    "\t\tst.success(\"Healthy\")\n",
    "\telif(bmi >= 25 and bmi < 30):\n",
    "\t\tst.warning(\"Overweight\")\n",
    "\telif(bmi >= 30):\n",
    "\t\tst.error(\"Extremely Overweight\")\n"
   ]
  },
  {
   "cell_type": "code",
   "execution_count": null,
   "id": "dee6d677",
   "metadata": {},
   "outputs": [],
   "source": []
  }
 ],
 "metadata": {
  "kernelspec": {
   "display_name": "Python 3 (ipykernel)",
   "language": "python",
   "name": "python3"
  },
  "language_info": {
   "codemirror_mode": {
    "name": "ipython",
    "version": 3
   },
   "file_extension": ".py",
   "mimetype": "text/x-python",
   "name": "python",
   "nbconvert_exporter": "python",
   "pygments_lexer": "ipython3",
   "version": "3.9.12"
  }
 },
 "nbformat": 4,
 "nbformat_minor": 5
}
